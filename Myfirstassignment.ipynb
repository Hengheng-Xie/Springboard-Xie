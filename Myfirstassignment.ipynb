{
 "cells": [
  {
   "cell_type": "code",
   "execution_count": 2,
   "id": "13d4f931-d40c-4763-9d6a-f8334beca2e3",
   "metadata": {},
   "outputs": [],
   "source": [
    "import numpy as np"
   ]
  },
  {
   "cell_type": "code",
   "execution_count": 4,
   "id": "2aa88aa6-4718-4912-bb0d-cb68adfccf93",
   "metadata": {},
   "outputs": [],
   "source": [
    "nums = [1,2,3]; orders = [4,5,6]"
   ]
  },
  {
   "cell_type": "code",
   "execution_count": 6,
   "id": "e8058dee-e7f3-49b4-ac2e-215f3d021f35",
   "metadata": {},
   "outputs": [],
   "source": [
    "arr = np.array([nums,orders])"
   ]
  },
  {
   "cell_type": "code",
   "execution_count": 7,
   "id": "3943a6fa-54a0-4968-ae8f-475633f74d68",
   "metadata": {},
   "outputs": [
    {
     "data": {
      "text/plain": [
       "(2, 3)"
      ]
     },
     "execution_count": 7,
     "metadata": {},
     "output_type": "execute_result"
    }
   ],
   "source": [
    "arr.shape"
   ]
  },
  {
   "cell_type": "code",
   "execution_count": 8,
   "id": "0559af06-0fb7-4d5e-838b-db8d6f4cdca8",
   "metadata": {},
   "outputs": [
    {
     "data": {
      "text/plain": [
       "array([[1, 4],\n",
       "       [2, 5],\n",
       "       [3, 6]])"
      ]
     },
     "execution_count": 8,
     "metadata": {},
     "output_type": "execute_result"
    }
   ],
   "source": [
    "arr.transpose()"
   ]
  },
  {
   "cell_type": "code",
   "execution_count": null,
   "id": "7be667ad-ed29-46f1-bdaa-944d48b96f33",
   "metadata": {},
   "outputs": [],
   "source": []
  }
 ],
 "metadata": {
  "kernelspec": {
   "display_name": "Python 3 (ipykernel)",
   "language": "python",
   "name": "python3"
  },
  "language_info": {
   "codemirror_mode": {
    "name": "ipython",
    "version": 3
   },
   "file_extension": ".py",
   "mimetype": "text/x-python",
   "name": "python",
   "nbconvert_exporter": "python",
   "pygments_lexer": "ipython3",
   "version": "3.12.8"
  }
 },
 "nbformat": 4,
 "nbformat_minor": 5
}
